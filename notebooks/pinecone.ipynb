{
 "cells": [
  {
   "cell_type": "code",
   "execution_count": 5,
   "metadata": {},
   "outputs": [],
   "source": [
    "import os\n",
    "import pandas as pd\n",
    "import pinecone\n",
    "from pinecone_datasets import Dataset\n",
    "from langchain.embeddings.openai import OpenAIEmbeddings\n",
    "\n",
    "from misc.tools import *\n",
    "from dotenv import load_dotenv,find_dotenv\n",
    "\n",
    "load_dotenv(find_dotenv())\n",
    "\n",
    "# Set Slack API credentials\n",
    "OpenAI_apikey = os.environ[\"OPENAI_APIKEY\"]\n",
    "PINECONE_APIKEY = os.environ[\"PINECONE_APIKEY\"]\n",
    "PINECONE_ENVIRONMENT = os.environ[\"PINECONE_ENVIRONMENT\"]"
   ]
  },
  {
   "cell_type": "code",
   "execution_count": 6,
   "metadata": {},
   "outputs": [
    {
     "data": {
      "text/html": [
       "<div>\n",
       "<style scoped>\n",
       "    .dataframe tbody tr th:only-of-type {\n",
       "        vertical-align: middle;\n",
       "    }\n",
       "\n",
       "    .dataframe tbody tr th {\n",
       "        vertical-align: top;\n",
       "    }\n",
       "\n",
       "    .dataframe thead th {\n",
       "        text-align: right;\n",
       "    }\n",
       "</style>\n",
       "<table border=\"1\" class=\"dataframe\">\n",
       "  <thead>\n",
       "    <tr style=\"text-align: right;\">\n",
       "      <th></th>\n",
       "      <th>id</th>\n",
       "      <th>name</th>\n",
       "      <th>description</th>\n",
       "      <th>color</th>\n",
       "      <th>brandName</th>\n",
       "      <th>url</th>\n",
       "      <th>price</th>\n",
       "    </tr>\n",
       "  </thead>\n",
       "  <tbody>\n",
       "    <tr>\n",
       "      <th>0</th>\n",
       "      <td>1</td>\n",
       "      <td>14 in. W x 69 in. H TailorMade Vinyl 4-Board J...</td>\n",
       "      <td>Add value and interest to the exterior of your...</td>\n",
       "      <td></td>\n",
       "      <td>Builders Edge</td>\n",
       "      <td>https://www.homedepot.com/p/Builders-Edge-14-i...</td>\n",
       "      <td>179.46</td>\n",
       "    </tr>\n",
       "    <tr>\n",
       "      <th>1</th>\n",
       "      <td>2</td>\n",
       "      <td>FramePro 3-1/2 in. 34-Degree Framing Nailer</td>\n",
       "      <td>Designed for tough work environments, this dur...</td>\n",
       "      <td></td>\n",
       "      <td>Senco</td>\n",
       "      <td>https://www.homedepot.com/p/Senco-FramePro-3-1...</td>\n",
       "      <td>399.00</td>\n",
       "    </tr>\n",
       "    <tr>\n",
       "      <th>2</th>\n",
       "      <td>3</td>\n",
       "      <td>38.75 in. x 15.5 in. x 3.125 in. Frameless Non...</td>\n",
       "      <td>Clearly Secure Glass Block Windows come fully ...</td>\n",
       "      <td></td>\n",
       "      <td>Clearly Secure</td>\n",
       "      <td>https://www.homedepot.com/p/Clearly-Secure-38-...</td>\n",
       "      <td>117.30</td>\n",
       "    </tr>\n",
       "    <tr>\n",
       "      <th>3</th>\n",
       "      <td>4</td>\n",
       "      <td>1 gal. #QE-12 Dune Drift Satin Enamel Exterior...</td>\n",
       "      <td>BEHR ULTRA Exterior Paint &amp; Primer delivers ex...</td>\n",
       "      <td></td>\n",
       "      <td>BEHR ULTRA</td>\n",
       "      <td>https://www.homedepot.com/p/BEHR-ULTRA-1-gal-Q...</td>\n",
       "      <td>53.98</td>\n",
       "    </tr>\n",
       "    <tr>\n",
       "      <th>4</th>\n",
       "      <td>5</td>\n",
       "      <td>1 qt. #P240-5 Cheese Puff Extra Durable Eggshe...</td>\n",
       "      <td>BEHR ULTRA SCUFF DEFENSE Stain-Blocking Paint ...</td>\n",
       "      <td></td>\n",
       "      <td>BEHR ULTRA</td>\n",
       "      <td>https://www.homedepot.com/p/BEHR-ULTRA-1-qt-P2...</td>\n",
       "      <td>20.98</td>\n",
       "    </tr>\n",
       "  </tbody>\n",
       "</table>\n",
       "</div>"
      ],
      "text/plain": [
       "   id                                               name  \\\n",
       "0   1  14 in. W x 69 in. H TailorMade Vinyl 4-Board J...   \n",
       "1   2        FramePro 3-1/2 in. 34-Degree Framing Nailer   \n",
       "2   3  38.75 in. x 15.5 in. x 3.125 in. Frameless Non...   \n",
       "3   4  1 gal. #QE-12 Dune Drift Satin Enamel Exterior...   \n",
       "4   5  1 qt. #P240-5 Cheese Puff Extra Durable Eggshe...   \n",
       "\n",
       "                                         description color       brandName  \\\n",
       "0  Add value and interest to the exterior of your...         Builders Edge   \n",
       "1  Designed for tough work environments, this dur...                 Senco   \n",
       "2  Clearly Secure Glass Block Windows come fully ...        Clearly Secure   \n",
       "3  BEHR ULTRA Exterior Paint & Primer delivers ex...            BEHR ULTRA   \n",
       "4  BEHR ULTRA SCUFF DEFENSE Stain-Blocking Paint ...            BEHR ULTRA   \n",
       "\n",
       "                                                 url   price  \n",
       "0  https://www.homedepot.com/p/Builders-Edge-14-i...  179.46  \n",
       "1  https://www.homedepot.com/p/Senco-FramePro-3-1...  399.00  \n",
       "2  https://www.homedepot.com/p/Clearly-Secure-38-...  117.30  \n",
       "3  https://www.homedepot.com/p/BEHR-ULTRA-1-gal-Q...   53.98  \n",
       "4  https://www.homedepot.com/p/BEHR-ULTRA-1-qt-P2...   20.98  "
      ]
     },
     "execution_count": 6,
     "metadata": {},
     "output_type": "execute_result"
    }
   ],
   "source": [
    "df = read_db_to_dataframe(\"./database/product_database.db\")\n",
    "df.head()"
   ]
  },
  {
   "cell_type": "code",
   "execution_count": 7,
   "metadata": {},
   "outputs": [
    {
     "data": {
      "text/plain": [
       "0        product_name: 14 in. W x 69 in. H TailorMade V...\n",
       "1        product_name: FramePro 3-1/2 in. 34-Degree Fra...\n",
       "2        product_name: 38.75 in. x 15.5 in. x 3.125 in....\n",
       "3        product_name: 1 gal. #QE-12 Dune Drift Satin E...\n",
       "4        product_name: 1 qt. #P240-5 Cheese Puff Extra ...\n",
       "                               ...                        \n",
       "17613    product_name: 84 in. x 84 in. \"Indigo Sundown ...\n",
       "17614    product_name: 6 mm x 1 in. 316 Stainless Steel...\n",
       "17615    product_name: 24 in. x 84 in. Hollow Core Weat...\n",
       "17616    product_name: Kids Headphones Volume Limiter M...\n",
       "17617    product_name: Window Assembly - Front Right, b...\n",
       "Name: content, Length: 17618, dtype: object"
      ]
     },
     "execution_count": 7,
     "metadata": {},
     "output_type": "execute_result"
    }
   ],
   "source": [
    "# Read data from the database into a Pandas DataFrame\n",
    "df = read_db_to_dataframe(\"./database/product_database.db\")\n",
    "df['content'] = df.apply(lambda row: f'product_name: {row[\"name\"]}, brand: {row[\"brandName\"]}, description: {row[\"description\"]}, color: {row[\"color\"]}, price: {row[\"price\"]} USD, URL: {row[\"url\"]}', axis=1)\n",
    "df['content']"
   ]
  },
  {
   "cell_type": "markdown",
   "metadata": {},
   "source": [
    "# Embedding"
   ]
  },
  {
   "cell_type": "code",
   "execution_count": 9,
   "metadata": {},
   "outputs": [],
   "source": [
    "from langchain.embeddings.openai import OpenAIEmbeddings\n",
    "\n",
    "openai_api_key = OpenAI_apikey\n",
    "model_name = 'text-embedding-ada-002'\n",
    "\n",
    "embed = OpenAIEmbeddings(\n",
    "    model=model_name,\n",
    "    openai_api_key=openai_api_key\n",
    ")"
   ]
  },
  {
   "cell_type": "code",
   "execution_count": 10,
   "metadata": {},
   "outputs": [],
   "source": [
    "index_name = 'langchain-retrieval-agent'\n",
    "\n",
    "index_name = 'test-bot'\n",
    "pinecone.init(\n",
    "    api_key=PINECONE_APIKEY,\n",
    "    environment=PINECONE_ENVIRONMENT\n",
    ")\n",
    "\n",
    "index = pinecone.Index(index_name=index_name)"
   ]
  },
  {
   "cell_type": "code",
   "execution_count": 12,
   "metadata": {},
   "outputs": [
    {
     "name": "stderr",
     "output_type": "stream",
     "text": [
      "  0%|          | 0/177 [00:00<?, ?it/s]"
     ]
    },
    {
     "name": "stderr",
     "output_type": "stream",
     "text": [
      "100%|██████████| 177/177 [09:59<00:00,  3.39s/it]\n"
     ]
    }
   ],
   "source": [
    "from tqdm.auto import tqdm\n",
    "from uuid import uuid4\n",
    "\n",
    "batch_size = 100\n",
    "\n",
    "texts = []\n",
    "metadatas = []\n",
    "\n",
    "for i in tqdm(range(0, len(df), batch_size)):\n",
    "    # get end of batch\n",
    "    i_end = min(len(df), i+batch_size)\n",
    "    batch = df.iloc[i:i_end]\n",
    "    # first get metadata fields for this record\n",
    "    metadatas = [{\n",
    "        'name': record['name'],\n",
    "        'content': record['content']\n",
    "    } for j, record in batch.iterrows()]\n",
    "    # get the list of contexts / documents\n",
    "    documents = batch['content']\n",
    "    # create document embeddings\n",
    "    embeds = embed.embed_documents(documents)\n",
    "    # get IDs\n",
    "    ids = batch['id'].astype(str)\n",
    "    # add everything to pinecone\n",
    "    index.upsert(vectors=zip(ids, embeds, metadatas))"
   ]
  },
  {
   "cell_type": "code",
   "execution_count": 8,
   "metadata": {},
   "outputs": [
    {
     "ename": "NameError",
     "evalue": "name 'index' is not defined",
     "output_type": "error",
     "traceback": [
      "\u001b[0;31m---------------------------------------------------------------------------\u001b[0m",
      "\u001b[0;31mNameError\u001b[0m                                 Traceback (most recent call last)",
      "Cell \u001b[0;32mIn[8], line 1\u001b[0m\n\u001b[0;32m----> 1\u001b[0m index\u001b[39m.\u001b[39mdescribe_index_stats()\n",
      "\u001b[0;31mNameError\u001b[0m: name 'index' is not defined"
     ]
    }
   ],
   "source": [
    "index.describe_index_stats()"
   ]
  },
  {
   "cell_type": "markdown",
   "metadata": {},
   "source": [
    "# Querying"
   ]
  },
  {
   "cell_type": "code",
   "execution_count": 178,
   "metadata": {},
   "outputs": [],
   "source": [
    "from langchain.vectorstores import Pinecone\n",
    "\n",
    "text_field = \"text\"\n",
    "\n",
    "# switch back to normal index for langchain\n",
    "index = pinecone.Index(index_name)\n",
    "\n",
    "vectorstore = Pinecone(\n",
    "    index, embed.embed_query, text_field\n",
    ")"
   ]
  },
  {
   "cell_type": "code",
   "execution_count": 194,
   "metadata": {},
   "outputs": [
    {
     "data": {
      "text/plain": [
       "{'results': [{'matches': [{'id': '9540', 'score': 0.876684248, 'values': []},\n",
       "                          {'id': '17419', 'score': 0.874740958, 'values': []},\n",
       "                          {'id': '3997', 'score': 0.874060512, 'values': []},\n",
       "                          {'id': '13015', 'score': 0.871846437, 'values': []},\n",
       "                          {'id': '2602', 'score': 0.869699836, 'values': []}],\n",
       "              'namespace': ''}]}"
      ]
     },
     "execution_count": 194,
     "metadata": {},
     "output_type": "execute_result"
    }
   ],
   "source": [
    "query_questions = [\n",
    "    \"white paint used for house exterior\",\n",
    "]\n",
    "\n",
    "query_vectors = [embed.embed_query(str(question)) for question in query_questions]\n",
    "\n",
    "query_results = index.query(queries=query_vectors, top_k=5, include_values=False)\n",
    "query_results\n"
   ]
  },
  {
   "cell_type": "code",
   "execution_count": 195,
   "metadata": {},
   "outputs": [
    {
     "data": {
      "text/html": [
       "<div>\n",
       "<style scoped>\n",
       "    .dataframe tbody tr th:only-of-type {\n",
       "        vertical-align: middle;\n",
       "    }\n",
       "\n",
       "    .dataframe tbody tr th {\n",
       "        vertical-align: top;\n",
       "    }\n",
       "\n",
       "    .dataframe thead th {\n",
       "        text-align: right;\n",
       "    }\n",
       "</style>\n",
       "<table border=\"1\" class=\"dataframe\">\n",
       "  <thead>\n",
       "    <tr style=\"text-align: right;\">\n",
       "      <th></th>\n",
       "      <th>id</th>\n",
       "      <th>score</th>\n",
       "      <th>name</th>\n",
       "      <th>description</th>\n",
       "      <th>color</th>\n",
       "      <th>brandName</th>\n",
       "      <th>url</th>\n",
       "      <th>price</th>\n",
       "      <th>content</th>\n",
       "    </tr>\n",
       "  </thead>\n",
       "  <tbody>\n",
       "    <tr>\n",
       "      <th>0</th>\n",
       "      <td>9540</td>\n",
       "      <td>0.876684</td>\n",
       "      <td>1 gal. #BWC-18 Spring White Solid Color House ...</td>\n",
       "      <td>The BEHR Solid Color House and Fence Paint is ...</td>\n",
       "      <td></td>\n",
       "      <td>BEHR</td>\n",
       "      <td>https://www.homedepot.com/p/BEHR-1-gal-BWC-18-...</td>\n",
       "      <td>35.98</td>\n",
       "      <td>product_name: 1 gal. #BWC-18 Spring White Soli...</td>\n",
       "    </tr>\n",
       "    <tr>\n",
       "      <th>1</th>\n",
       "      <td>17419</td>\n",
       "      <td>0.874741</td>\n",
       "      <td>1 qt. PPG1125-2 White Sage Semi-Gloss Exterior...</td>\n",
       "      <td>This Glidden Exterior Latex Paint can be tinte...</td>\n",
       "      <td></td>\n",
       "      <td>Glidden Premium</td>\n",
       "      <td>https://www.homedepot.com/p/Glidden-Premium-1-...</td>\n",
       "      <td>17.98</td>\n",
       "      <td>product_name: 1 qt. PPG1125-2 White Sage Semi-...</td>\n",
       "    </tr>\n",
       "    <tr>\n",
       "      <th>2</th>\n",
       "      <td>3997</td>\n",
       "      <td>0.874061</td>\n",
       "      <td>1 qt. PPG1104-1 White Rock Flat Exterior Latex...</td>\n",
       "      <td>This Glidden Exterior Latex Paint can be tinte...</td>\n",
       "      <td></td>\n",
       "      <td>Glidden Premium</td>\n",
       "      <td>https://www.homedepot.com/p/Glidden-Premium-1-...</td>\n",
       "      <td>15.98</td>\n",
       "      <td>product_name: 1 qt. PPG1104-1 White Rock Flat ...</td>\n",
       "    </tr>\n",
       "    <tr>\n",
       "      <th>3</th>\n",
       "      <td>13015</td>\n",
       "      <td>0.871846</td>\n",
       "      <td>1 gal. #BL-W06 Whispering Waterfall Solid Colo...</td>\n",
       "      <td>The BEHR Solid Color House and Fence Paint is ...</td>\n",
       "      <td></td>\n",
       "      <td>BEHR</td>\n",
       "      <td>https://www.homedepot.com/p/BEHR-1-gal-BL-W06-...</td>\n",
       "      <td>35.98</td>\n",
       "      <td>product_name: 1 gal. #BL-W06 Whispering Waterf...</td>\n",
       "    </tr>\n",
       "    <tr>\n",
       "      <th>4</th>\n",
       "      <td>2602</td>\n",
       "      <td>0.869700</td>\n",
       "      <td>1 gal. #100B-7 Hot Pink Solid Color House and ...</td>\n",
       "      <td>The BEHR Solid Color House and Fence Paint is ...</td>\n",
       "      <td></td>\n",
       "      <td>BEHR</td>\n",
       "      <td>https://www.homedepot.com/p/BEHR-1-gal-100B-7-...</td>\n",
       "      <td>35.98</td>\n",
       "      <td>product_name: 1 gal. #100B-7 Hot Pink Solid Co...</td>\n",
       "    </tr>\n",
       "  </tbody>\n",
       "</table>\n",
       "</div>"
      ],
      "text/plain": [
       "      id     score                                               name  \\\n",
       "0   9540  0.876684  1 gal. #BWC-18 Spring White Solid Color House ...   \n",
       "1  17419  0.874741  1 qt. PPG1125-2 White Sage Semi-Gloss Exterior...   \n",
       "2   3997  0.874061  1 qt. PPG1104-1 White Rock Flat Exterior Latex...   \n",
       "3  13015  0.871846  1 gal. #BL-W06 Whispering Waterfall Solid Colo...   \n",
       "4   2602  0.869700  1 gal. #100B-7 Hot Pink Solid Color House and ...   \n",
       "\n",
       "                                         description color        brandName  \\\n",
       "0  The BEHR Solid Color House and Fence Paint is ...                   BEHR   \n",
       "1  This Glidden Exterior Latex Paint can be tinte...        Glidden Premium   \n",
       "2  This Glidden Exterior Latex Paint can be tinte...        Glidden Premium   \n",
       "3  The BEHR Solid Color House and Fence Paint is ...                   BEHR   \n",
       "4  The BEHR Solid Color House and Fence Paint is ...                   BEHR   \n",
       "\n",
       "                                                 url  price  \\\n",
       "0  https://www.homedepot.com/p/BEHR-1-gal-BWC-18-...  35.98   \n",
       "1  https://www.homedepot.com/p/Glidden-Premium-1-...  17.98   \n",
       "2  https://www.homedepot.com/p/Glidden-Premium-1-...  15.98   \n",
       "3  https://www.homedepot.com/p/BEHR-1-gal-BL-W06-...  35.98   \n",
       "4  https://www.homedepot.com/p/BEHR-1-gal-100B-7-...  35.98   \n",
       "\n",
       "                                             content  \n",
       "0  product_name: 1 gal. #BWC-18 Spring White Soli...  \n",
       "1  product_name: 1 qt. PPG1125-2 White Sage Semi-...  \n",
       "2  product_name: 1 qt. PPG1104-1 White Rock Flat ...  \n",
       "3  product_name: 1 gal. #BL-W06 Whispering Waterf...  \n",
       "4  product_name: 1 gal. #100B-7 Hot Pink Solid Co...  "
      ]
     },
     "execution_count": 195,
     "metadata": {},
     "output_type": "execute_result"
    }
   ],
   "source": [
    "matches = []\n",
    "scores = []\n",
    "for match in query_results['results'][0]['matches']:\n",
    "    matches.append(match['id'])\n",
    "    scores.append(match['score'])\n",
    "\n",
    "# Create DataFrame with only matches and scores\n",
    "matches_df = pd.DataFrame({'id': matches, 'score': scores})\n",
    "matches_df = matches_df.astype({'id':'int32'})\n",
    "matches_df.merge(df,left_on=\"id\",right_on=\"id\")"
   ]
  },
  {
   "cell_type": "code",
   "execution_count": null,
   "metadata": {},
   "outputs": [],
   "source": []
  },
  {
   "cell_type": "code",
   "execution_count": 206,
   "metadata": {},
   "outputs": [],
   "source": [
    "from langchain.vectorstores import Pinecone\n",
    "\n",
    "text_field = \"content\"\n",
    "\n",
    "# switch back to normal index for langchain\n",
    "index = pinecone.Index(index_name)\n",
    "\n",
    "vectorstore = Pinecone(\n",
    "    index, embed.embed_query, text_field\n",
    ")\n",
    "     "
   ]
  },
  {
   "cell_type": "code",
   "execution_count": 207,
   "metadata": {},
   "outputs": [
    {
     "data": {
      "text/plain": [
       "[Document(page_content='product_name: 1 qt. #YL-W12 Antique White Semi-Gloss Enamel Interior Stain-Blocking Paint and Primer, brand: BEHR DYNASTY, description: Introducing the best of BEHR Paint. Featuring our most advanced stain repellency and unmatched scuff resistance to keep the surfaces of your projects looking newer longer, and fast-drying technology that will get you back to using your spaces quicker. All with one-coat hide guaranteed in over 1,000 colors. Our most durable, most stain repellent, most scuff resistant, one-coat hide paint ever. Darker colors may require additional dry time between coats. Cooler temperatures or higher humidity may prolong drying time., color: , price: 30.98 USD', metadata={'name': '1 qt. #YL-W12 Antique White Semi-Gloss Enamel Interior Stain-Blocking Paint and Primer'}),\n",
       " Document(page_content='product_name: 1 gal. Home Decorators Collection #HDC-NT-08 Papier Blanc Matte Interior Stain-Blocking Paint & Primer, brand: BEHR DYNASTY, description: Introducing the best of BEHR Paint. Featuring our most advanced stain repellency and unmatched scuff resistance to keep the surfaces of your projects looking newer longer, and fast-drying technology that will get you back to using your spaces quicker. All with one-coat hide guaranteed in over 1,000 colors. Our most durable, most stain repellent, most scuff resistant, one-coat hide paint ever. Darker colors may require additional dry time between coats. Cooler temperatures or higher humidity may prolong drying time., color: , price: 59.98 USD', metadata={'name': '1 gal. Home Decorators Collection #HDC-NT-08 Papier Blanc Matte Interior Stain-Blocking Paint & Primer'}),\n",
       " Document(page_content='product_name: 1 qt. #22 Navajo White Semi-Gloss Enamel Interior Stain-Blocking Paint & Primer, brand: BEHR DYNASTY, description: Introducing the best of BEHR Paint. Featuring our most advanced stain repellency and unmatched scuff resistance to keep the surfaces of your projects looking newer longer, and fast-drying technology that will get you back to using your spaces quicker. All with one-coat hide guaranteed in over 1,000 colors. Our most durable, most stain repellent, most scuff resistant, one-coat hide paint ever.  Darker colors may require additional dry time between coats.  Cooler temperatures or higher humidity may prolong drying time., color: , price: 30.98 USD', metadata={'name': '1 qt. #22 Navajo White Semi-Gloss Enamel Interior Stain-Blocking Paint & Primer'})]"
      ]
     },
     "execution_count": 207,
     "metadata": {},
     "output_type": "execute_result"
    }
   ],
   "source": [
    "\n",
    "query = \"white paint?\"\n",
    "\n",
    "vectorstore.similarity_search(\n",
    "    query,  # our search query\n",
    "    k=3  # return 3 most relevant docs\n",
    ")"
   ]
  },
  {
   "cell_type": "markdown",
   "metadata": {},
   "source": [
    "# LangChain"
   ]
  },
  {
   "cell_type": "code",
   "execution_count": 208,
   "metadata": {},
   "outputs": [
    {
     "data": {
      "text/plain": [
       "{'dimension': 1536,\n",
       " 'index_fullness': 0.2,\n",
       " 'namespaces': {'': {'vector_count': 17618}},\n",
       " 'total_vector_count': 17618}"
      ]
     },
     "execution_count": 208,
     "metadata": {},
     "output_type": "execute_result"
    }
   ],
   "source": [
    "index.describe_index_stats()"
   ]
  },
  {
   "cell_type": "code",
   "execution_count": 228,
   "metadata": {},
   "outputs": [],
   "source": [
    "from langchain.chat_models import ChatOpenAI\n",
    "from langchain.chains.conversation.memory import ConversationBufferWindowMemory\n",
    "from langchain.chains import RetrievalQA\n",
    "\n",
    "# chat completion llm\n",
    "llm = ChatOpenAI(\n",
    "    openai_api_key=openai_api_key,\n",
    "    model_name='gpt-3.5-turbo',\n",
    "    temperature=0.0\n",
    ")\n",
    "\n",
    "# conversational memory\n",
    "conversational_memory = ConversationBufferWindowMemory(\n",
    "    memory_key='chat_history',\n",
    "    k=5,\n",
    "    return_messages=True\n",
    ")\n",
    "\n",
    "# retrieval qa chain\n",
    "qa = RetrievalQA.from_chain_type(\n",
    "    llm=llm,\n",
    "    chain_type=\"stuff\",\n",
    "    retriever=vectorstore.as_retriever()\n",
    ")\n",
    "     "
   ]
  },
  {
   "cell_type": "code",
   "execution_count": 229,
   "metadata": {},
   "outputs": [
    {
     "data": {
      "text/plain": [
       "\"Based on the provided information, the best paint option for painting your house under $100 would be the 1 gal. #ICC-100 Eastern Amber Flat Exterior Paint & Primer by BEHR MARQUEE, priced at $62.98 USD. This paint features advanced dirt and fade technology, ensuring a long-lasting and freshly painted look for your home's exterior walls.\""
      ]
     },
     "execution_count": 229,
     "metadata": {},
     "output_type": "execute_result"
    }
   ],
   "source": [
    "qa.run('i need the best paint for painting my house under 100$')"
   ]
  },
  {
   "cell_type": "code",
   "execution_count": 230,
   "metadata": {},
   "outputs": [
    {
     "data": {
      "text/plain": [
       "'Yes, all of the mentioned paints are available in white.'"
      ]
     },
     "execution_count": 230,
     "metadata": {},
     "output_type": "execute_result"
    }
   ],
   "source": [
    "qa.run('is the paint available in white?')"
   ]
  },
  {
   "cell_type": "code",
   "execution_count": 231,
   "metadata": {},
   "outputs": [
    {
     "data": {
      "text/plain": [
       "\"I'm sorry, but I don't have access to the current date. However, Christmas is celebrated on December 25th every year.\""
      ]
     },
     "execution_count": 231,
     "metadata": {},
     "output_type": "execute_result"
    }
   ],
   "source": [
    "qa.run('what is the date for christams')"
   ]
  },
  {
   "cell_type": "code",
   "execution_count": 232,
   "metadata": {},
   "outputs": [],
   "source": [
    "from langchain.agents import Tool\n",
    "\n",
    "tools = [\n",
    "    Tool(\n",
    "        name='Knowledge Base',\n",
    "        func=qa.run,\n",
    "        description=(\n",
    "            'use this tool when answering general knowledge queries to get '\n",
    "            'more information about the topic'\n",
    "        )\n",
    "    )\n",
    "]\n",
    "\n",
    "from langchain.agents import initialize_agent\n",
    "\n",
    "agent = initialize_agent(\n",
    "    agent='chat-conversational-react-description',\n",
    "    tools=tools,\n",
    "    llm=llm,\n",
    "    verbose=True,\n",
    "    max_iterations=3,\n",
    "    early_stopping_method='generate',\n",
    "    memory=conversational_memory\n",
    ")"
   ]
  },
  {
   "cell_type": "code",
   "execution_count": 233,
   "metadata": {},
   "outputs": [
    {
     "name": "stdout",
     "output_type": "stream",
     "text": [
      "\n",
      "\n",
      "\u001b[1m> Entering new AgentExecutor chain...\u001b[0m\n",
      "\u001b[32;1m\u001b[1;3m{\n",
      "    \"action\": \"Knowledge Base\",\n",
      "    \"action_input\": \"best paint for painting house under $100\"\n",
      "}\u001b[0m\n",
      "Observation: \u001b[36;1m\u001b[1;3mBased on the given context, the best paint for painting a house under $100 would be the 1 qt. Home Decorators Collection #HDC-MD-17 Minimum Beige Satin Enamel Exterior Paint & Primer by BEHR ULTRA, priced at $25.98 USD. This paint offers excellent durability and stain-blocking properties, and it resists rain in as little as 60 minutes after application. It is suitable for use on siding, trim, fences, doors, and masonry.\u001b[0m\n",
      "Thought:\u001b[32;1m\u001b[1;3m{\n",
      "    \"action\": \"Final Answer\",\n",
      "    \"action_input\": \"The best paint for painting a house under $100 is the 1 qt. Home Decorators Collection #HDC-MD-17 Minimum Beige Satin Enamel Exterior Paint & Primer by BEHR ULTRA, priced at $25.98 USD. It offers excellent durability, stain-blocking properties, and resists rain in as little as 60 minutes after application. It is suitable for use on siding, trim, fences, doors, and masonry.\"\n",
      "}\u001b[0m\n",
      "\n",
      "\u001b[1m> Finished chain.\u001b[0m\n"
     ]
    },
    {
     "data": {
      "text/plain": [
       "'The best paint for painting a house under $100 is the 1 qt. Home Decorators Collection #HDC-MD-17 Minimum Beige Satin Enamel Exterior Paint & Primer by BEHR ULTRA, priced at $25.98 USD. It offers excellent durability, stain-blocking properties, and resists rain in as little as 60 minutes after application. It is suitable for use on siding, trim, fences, doors, and masonry.'"
      ]
     },
     "execution_count": 233,
     "metadata": {},
     "output_type": "execute_result"
    }
   ],
   "source": [
    "agent.run('i need the best paint for painting my house under 100$')"
   ]
  },
  {
   "cell_type": "code",
   "execution_count": 234,
   "metadata": {},
   "outputs": [
    {
     "name": "stdout",
     "output_type": "stream",
     "text": [
      "\n",
      "\n",
      "\u001b[1m> Entering new AgentExecutor chain...\u001b[0m\n",
      "\u001b[32;1m\u001b[1;3m{\n",
      "    \"action\": \"Knowledge Base\",\n",
      "    \"action_input\": \"best paint for house painting\"\n",
      "}\u001b[0m\n",
      "Observation: \u001b[36;1m\u001b[1;3mThere is no one-size-fits-all answer to this question as the best paint for house painting can vary depending on factors such as the surface being painted, the desired finish, and personal preferences. However, some popular and highly-rated paint brands for house painting include BEHR ULTRA, BEHR PREMIUM PLUS, and BEHR PRO. It is recommended to consider factors such as durability, stain-blocking properties, ease of application, and the specific needs of your project when choosing the best paint for your house painting.\u001b[0m\n",
      "Thought:\u001b[32;1m\u001b[1;3m{\n",
      "    \"action\": \"Final Answer\",\n",
      "    \"action_input\": \"There is no one-size-fits-all answer to this question as the best paint for house painting can vary depending on factors such as the surface being painted, the desired finish, and personal preferences. However, some popular and highly-rated paint brands for house painting include BEHR ULTRA, BEHR PREMIUM PLUS, and BEHR PRO. It is recommended to consider factors such as durability, stain-blocking properties, ease of application, and the specific needs of your project when choosing the best paint for your house painting.\"\n",
      "}\u001b[0m\n",
      "\n",
      "\u001b[1m> Finished chain.\u001b[0m\n"
     ]
    },
    {
     "data": {
      "text/plain": [
       "'There is no one-size-fits-all answer to this question as the best paint for house painting can vary depending on factors such as the surface being painted, the desired finish, and personal preferences. However, some popular and highly-rated paint brands for house painting include BEHR ULTRA, BEHR PREMIUM PLUS, and BEHR PRO. It is recommended to consider factors such as durability, stain-blocking properties, ease of application, and the specific needs of your project when choosing the best paint for your house painting.'"
      ]
     },
     "execution_count": 234,
     "metadata": {},
     "output_type": "execute_result"
    }
   ],
   "source": [
    "agent.run('i need to paint my house. What products should i buy and how much will that cost me?')"
   ]
  },
  {
   "cell_type": "code",
   "execution_count": null,
   "metadata": {},
   "outputs": [],
   "source": [
    "template = \"\"\"You are a chatbot. Be kind, detailed and nice. Present the given queried search result in a nice way as answer to the user input. dont ask questions back! just take the given context\n",
    "\n",
    "{chat_history}\n",
    "Human: {user_msg}\n",
    "Chatbot:\"\"\"\n",
    "\n",
    "prompt = PromptTemplate(\n",
    "    input_variables=[\"chat_history\", \"user_msg\"], \n",
    "    template=template\n",
    ")"
   ]
  }
 ],
 "metadata": {
  "kernelspec": {
   "display_name": ".venv",
   "language": "python",
   "name": "python3"
  },
  "language_info": {
   "codemirror_mode": {
    "name": "ipython",
    "version": 3
   },
   "file_extension": ".py",
   "mimetype": "text/x-python",
   "name": "python",
   "nbconvert_exporter": "python",
   "pygments_lexer": "ipython3",
   "version": "3.9.6"
  },
  "orig_nbformat": 4
 },
 "nbformat": 4,
 "nbformat_minor": 2
}
